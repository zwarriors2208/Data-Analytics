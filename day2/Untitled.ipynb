{
 "cells": [
  {
   "cell_type": "markdown",
   "id": "fcb14b42-be87-4d89-b620-fcb86618287c",
   "metadata": {},
   "source": [
    "## Series"
   ]
  },
  {
   "cell_type": "code",
   "execution_count": 83,
   "id": "797aa318-ab3e-4565-8547-4c35602d9a2c",
   "metadata": {},
   "outputs": [],
   "source": [
    "def decodeString(si: str) -> str:\n",
    "    a = []\n",
    "    l = []\n",
    "    s = \"\"\n",
    "    c = 0\n",
    "    temp =''\n",
    "    for i in range(len(si)):\n",
    "        if si[i].isdigit():\n",
    "            temp += si[i]\n",
    "            if si[i+1] == '[':\n",
    "                l.append(int(temp))\n",
    "                temp=\"\"\n",
    "        elif si[i] == '[':\n",
    "            c += 1\n",
    "            a.append('')\n",
    "        elif si[i] == ']':\n",
    "            c -= 1\n",
    "            if c == 0:\n",
    "                s += l[-1] * a[-1]\n",
    "            else:\n",
    "                a[-2] += l[-1] * a[-1]\n",
    "            a.pop()\n",
    "            l.pop()\n",
    "        else:\n",
    "            if c == 0:\n",
    "                s += si[i]\n",
    "            else:\n",
    "                a[-1] += si[i]\n",
    "    return s"
   ]
  },
  {
   "cell_type": "code",
   "execution_count": 85,
   "id": "945e0a6c-7890-4787-8eba-aa4a4ff01d0c",
   "metadata": {},
   "outputs": [
    {
     "data": {
      "text/plain": [
       "'abcabccdcdcdef'"
      ]
     },
     "execution_count": 85,
     "metadata": {},
     "output_type": "execute_result"
    }
   ],
   "source": [
    "decodeString(\"2[abc]3[cd]ef\")"
   ]
  },
  {
   "cell_type": "code",
   "execution_count": 3,
   "id": "131ebe26-4a68-4ebd-9a64-6e3e6b40e947",
   "metadata": {},
   "outputs": [],
   "source": [
    "import numpy as np\n",
    "import pandas as pd"
   ]
  },
  {
   "cell_type": "code",
   "execution_count": 5,
   "id": "66a5d6eb-8089-47c7-a8f3-68858302dd60",
   "metadata": {},
   "outputs": [],
   "source": [
    "#Creating a series from a Python list\n",
    "myindex=['USA','Canada','England']\n",
    "mydata=[1776,1867,1821]"
   ]
  },
  {
   "cell_type": "code",
   "execution_count": 7,
   "id": "982e9ec7-e2bc-4e44-8a79-ce81b80b2054",
   "metadata": {},
   "outputs": [
    {
     "name": "stdout",
     "output_type": "stream",
     "text": [
      "0    1776\n",
      "1    1867\n",
      "2    1821\n",
      "dtype: int64\n"
     ]
    }
   ],
   "source": [
    "myser=pd.Series(data=mydata)\n",
    "print(myser)"
   ]
  },
  {
   "cell_type": "code",
   "execution_count": 15,
   "id": "5140a9c5-d22b-4d7d-b7b8-47d66047b530",
   "metadata": {},
   "outputs": [
    {
     "name": "stdout",
     "output_type": "stream",
     "text": [
      "USA        1776\n",
      "Canada     1867\n",
      "England    1821\n",
      "dtype: int64\n"
     ]
    }
   ],
   "source": [
    "myser=pd.Series(data=mydata,index=myindex)\n",
    "print(myser)"
   ]
  },
  {
   "cell_type": "code",
   "execution_count": 39,
   "id": "220d32e1-bfab-4309-9d45-ec96e9fb7f70",
   "metadata": {},
   "outputs": [
    {
     "name": "stdout",
     "output_type": "stream",
     "text": [
      "[42 81  5 97]\n"
     ]
    }
   ],
   "source": [
    "#Creaitng a series from NumPy array\n",
    "ran_data=np.random.randint(0,100,4)\n",
    "print(ran_data)"
   ]
  },
  {
   "cell_type": "code",
   "execution_count": 41,
   "id": "720248f1-0984-4596-bbbd-c855b73319fb",
   "metadata": {},
   "outputs": [
    {
     "name": "stdout",
     "output_type": "stream",
     "text": [
      "Alice      42\n",
      "Bob        81\n",
      "Charles     5\n",
      "Dave       97\n",
      "dtype: int32\n"
     ]
    }
   ],
   "source": [
    "names=['Alice','Bob','Charles','Dave']\n",
    "ages=pd.Series(ran_data,names)\n",
    "print(ages)"
   ]
  },
  {
   "cell_type": "code",
   "execution_count": 49,
   "id": "12e9fb76-82ee-4718-82af-ca9695548cc7",
   "metadata": {},
   "outputs": [
    {
     "name": "stdout",
     "output_type": "stream",
     "text": [
      "{'Sammy': 5, 'Frank': 10, 'Spike': 7}\n",
      "Sammy     5\n",
      "Frank    10\n",
      "Spike     7\n",
      "dtype: int64\n"
     ]
    }
   ],
   "source": [
    "ages={'Sammy':5,'Frank':10,'Spike':7}\n",
    "print(ages)\n",
    "print(pd.Series(ages))"
   ]
  },
  {
   "cell_type": "code",
   "execution_count": 51,
   "id": "4585723f-39e5-45aa-b3d8-6e057de3d5c0",
   "metadata": {},
   "outputs": [],
   "source": [
    "q1={'Japan':80, 'China':450, 'India': 200, \"USA\":250}\n",
    "q2 = {'Brazil':100, 'China':500, 'India':200, 'USA':250}"
   ]
  },
  {
   "cell_type": "code",
   "execution_count": 53,
   "id": "0a49b4dd-aaab-4f1d-9bb6-a2460c67760b",
   "metadata": {},
   "outputs": [
    {
     "name": "stdout",
     "output_type": "stream",
     "text": [
      "Japan     80\n",
      "China    450\n",
      "India    200\n",
      "USA      250\n",
      "dtype: int64\n"
     ]
    }
   ],
   "source": [
    "#converting into panda series\n",
    "sales_q1 = pd.Series(q1)\n",
    "sales_q2 = pd.Series(q2)\n",
    "print(sales_q1)"
   ]
  },
  {
   "cell_type": "code",
   "execution_count": 55,
   "id": "6b9bc1b7-243c-4393-93b9-1ce34ad541b2",
   "metadata": {},
   "outputs": [
    {
     "name": "stdout",
     "output_type": "stream",
     "text": [
      "80\n"
     ]
    }
   ],
   "source": [
    "print(sales_q1['Japan'])"
   ]
  },
  {
   "cell_type": "code",
   "execution_count": 57,
   "id": "c810038b-b8aa-43bf-a020-d141a664b8e9",
   "metadata": {},
   "outputs": [
    {
     "name": "stdout",
     "output_type": "stream",
     "text": [
      "80\n"
     ]
    },
    {
     "name": "stderr",
     "output_type": "stream",
     "text": [
      "C:\\Users\\DAI.STUDENTSDC\\AppData\\Local\\Temp\\ipykernel_20152\\2680012996.py:1: FutureWarning: Series.__getitem__ treating keys as positions is deprecated. In a future version, integer keys will always be treated as labels (consistent with DataFrame behavior). To access a value by position, use `ser.iloc[pos]`\n",
      "  print(sales_q1[0])\n"
     ]
    }
   ],
   "source": [
    "print(sales_q1[0])"
   ]
  },
  {
   "cell_type": "code",
   "execution_count": 63,
   "id": "642160bc-cdc2-454b-b3e2-8d9dff9cb3e0",
   "metadata": {},
   "outputs": [
    {
     "name": "stdout",
     "output_type": "stream",
     "text": [
      "Japan    160\n",
      "China    900\n",
      "India    400\n",
      "USA      500\n",
      "dtype: int64\n",
      "Brazil    1.0\n",
      "China     5.0\n",
      "India     2.0\n",
      "USA       2.5\n",
      "dtype: float64\n"
     ]
    }
   ],
   "source": [
    "#Can perform Operations Broadcasted across entire Series\n",
    "print(sales_q1*2)\n",
    "print(sales_q2/100)"
   ]
  },
  {
   "cell_type": "code",
   "execution_count": 75,
   "id": "d3f25ee8-87f5-4096-b21f-8a8e3f0428b9",
   "metadata": {},
   "outputs": [
    {
     "name": "stdout",
     "output_type": "stream",
     "text": [
      "Brazil      NaN\n",
      "China     950.0\n",
      "India     400.0\n",
      "Japan       NaN\n",
      "USA       500.0\n",
      "dtype: float64\n"
     ]
    }
   ],
   "source": [
    "#For NaN\n",
    "print(sales_q1+sales_q2)"
   ]
  },
  {
   "cell_type": "code",
   "execution_count": 77,
   "id": "16e8cbd4-a2df-4026-b81d-936c8e6767c9",
   "metadata": {},
   "outputs": [
    {
     "name": "stdout",
     "output_type": "stream",
     "text": [
      "Brazil    100.0\n",
      "China     950.0\n",
      "India     400.0\n",
      "Japan      80.0\n",
      "USA       500.0\n",
      "dtype: float64\n"
     ]
    }
   ],
   "source": [
    "#fill NaN\n",
    "print(sales_q1.add(sales_q2,fill_value=0))"
   ]
  },
  {
   "cell_type": "code",
   "execution_count": null,
   "id": "5b680719-03fe-45fe-91c3-b63a19b0b558",
   "metadata": {},
   "outputs": [],
   "source": []
  }
 ],
 "metadata": {
  "kernelspec": {
   "display_name": "Python 3 (ipykernel)",
   "language": "python",
   "name": "python3"
  },
  "language_info": {
   "codemirror_mode": {
    "name": "ipython",
    "version": 3
   },
   "file_extension": ".py",
   "mimetype": "text/x-python",
   "name": "python",
   "nbconvert_exporter": "python",
   "pygments_lexer": "ipython3",
   "version": "3.12.4"
  }
 },
 "nbformat": 4,
 "nbformat_minor": 5
}
